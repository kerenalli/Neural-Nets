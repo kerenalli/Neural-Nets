{
  "nbformat": 4,
  "nbformat_minor": 0,
  "metadata": {
    "colab": {
      "name": "Perceptron_MLP.ipynb",
      "provenance": [],
      "toc_visible": true,
      "authorship_tag": "ABX9TyN05qlx4WfyJF2Sh4g1ukbR",
      "include_colab_link": true
    },
    "kernelspec": {
      "name": "python3",
      "display_name": "Python 3"
    }
  },
  "cells": [
    {
      "cell_type": "markdown",
      "metadata": {
        "id": "view-in-github",
        "colab_type": "text"
      },
      "source": [
        "<a href=\"https://colab.research.google.com/github/kerenalli/Neural-Nets/blob/main/Perceptron_MLP.ipynb\" target=\"_parent\"><img src=\"https://colab.research.google.com/assets/colab-badge.svg\" alt=\"Open In Colab\"/></a>"
      ]
    },
    {
      "cell_type": "markdown",
      "metadata": {
        "id": "bCcJB66XR4-P"
      },
      "source": [
        "TensorFlow is a software library extensively used in machine learning"
      ]
    },
    {
      "cell_type": "code",
      "metadata": {
        "colab": {
          "base_uri": "https://localhost:8080/"
        },
        "id": "Hyn5qF4nRv2s",
        "outputId": "84948de5-0c5d-4c1e-ae10-1470dfa3a277"
      },
      "source": [
        "%tensorflow_version 2.x\r\n",
        "import tensorflow as tf\r\n",
        "\r\n",
        "# Download and import the MIT 6.S191 package\r\n",
        "!pip install mitdeeplearning\r\n",
        "import mitdeeplearning as mdl\r\n",
        "\r\n",
        "import numpy as np\r\n",
        "import matplotlib.pyplot as plt"
      ],
      "execution_count": 1,
      "outputs": [
        {
          "output_type": "stream",
          "text": [
            "Collecting mitdeeplearning\n",
            "\u001b[?25l  Downloading https://files.pythonhosted.org/packages/9d/ad/650eb53c0d9d1213536fe94bc150f89b564ff5ee784bd662272584bb091b/mitdeeplearning-0.2.0.tar.gz (2.1MB)\n",
            "\u001b[K     |████████████████████████████████| 2.1MB 6.0MB/s \n",
            "\u001b[?25hRequirement already satisfied: numpy in /usr/local/lib/python3.7/dist-packages (from mitdeeplearning) (1.19.5)\n",
            "Requirement already satisfied: regex in /usr/local/lib/python3.7/dist-packages (from mitdeeplearning) (2019.12.20)\n",
            "Requirement already satisfied: tqdm in /usr/local/lib/python3.7/dist-packages (from mitdeeplearning) (4.41.1)\n",
            "Requirement already satisfied: gym in /usr/local/lib/python3.7/dist-packages (from mitdeeplearning) (0.17.3)\n",
            "Requirement already satisfied: cloudpickle<1.7.0,>=1.2.0 in /usr/local/lib/python3.7/dist-packages (from gym->mitdeeplearning) (1.3.0)\n",
            "Requirement already satisfied: scipy in /usr/local/lib/python3.7/dist-packages (from gym->mitdeeplearning) (1.4.1)\n",
            "Requirement already satisfied: pyglet<=1.5.0,>=1.4.0 in /usr/local/lib/python3.7/dist-packages (from gym->mitdeeplearning) (1.5.0)\n",
            "Requirement already satisfied: future in /usr/local/lib/python3.7/dist-packages (from pyglet<=1.5.0,>=1.4.0->gym->mitdeeplearning) (0.16.0)\n",
            "Building wheels for collected packages: mitdeeplearning\n",
            "  Building wheel for mitdeeplearning (setup.py) ... \u001b[?25l\u001b[?25hdone\n",
            "  Created wheel for mitdeeplearning: filename=mitdeeplearning-0.2.0-cp37-none-any.whl size=2115442 sha256=d0b45fb38f53d27ac23c1cb3d70e4d7331c714fd9393606e1bc7fd4b4b0bb7df\n",
            "  Stored in directory: /root/.cache/pip/wheels/af/dc/2a/5c3633135e7e4ef4fd31463cfa1942cb1bae7486ab94e7a2ad\n",
            "Successfully built mitdeeplearning\n",
            "Installing collected packages: mitdeeplearning\n",
            "Successfully installed mitdeeplearning-0.2.0\n"
          ],
          "name": "stdout"
        }
      ]
    },
    {
      "cell_type": "markdown",
      "metadata": {
        "id": "FQ_nQ79MSN_9"
      },
      "source": [
        "Tensors are data structures that you can think of as multi-dimensional arrays. Tensors are represented as n-dimensional arrays of base dataypes such as a string or integer -- they provide a way to generalize vectors and matrices to higher dimensions.\r\n",
        "\r\n",
        "The **shape** of a Tensor defines **its number of dimensions and the size of each dimension**. The **rank** of a Tensor provides the **number of dimensions** (n-dimensions) -- you can also think of this as the Tensor's order or degree."
      ]
    },
    {
      "cell_type": "code",
      "metadata": {
        "colab": {
          "base_uri": "https://localhost:8080/"
        },
        "id": "wjni6JBkSBtF",
        "outputId": "9f99438f-3379-42fe-ed40-5145ae83ae1b"
      },
      "source": [
        "sport = tf.constant(\"Tennis\", tf.string)\r\n",
        "number = tf.constant(1.41421356237, tf.float64)\r\n",
        "\r\n",
        "print(\"`sport` is a {}-d Tensor\".format(tf.rank(sport).numpy()))\r\n",
        "print(\"`number` is a {}-d Tensor\".format(tf.rank(number).numpy()))"
      ],
      "execution_count": 2,
      "outputs": [
        {
          "output_type": "stream",
          "text": [
            "`sport` is a 0-d Tensor\n",
            "`number` is a 0-d Tensor\n"
          ],
          "name": "stdout"
        }
      ]
    },
    {
      "cell_type": "markdown",
      "metadata": {
        "id": "1QB1DHcbS2IH"
      },
      "source": [
        "In the above output, 0-D tensor is just a number or **scalar**. **Vectors** and **lists** can be used to create 1-d Tensors"
      ]
    },
    {
      "cell_type": "code",
      "metadata": {
        "colab": {
          "base_uri": "https://localhost:8080/"
        },
        "id": "3ZhOnDPES_ud",
        "outputId": "ee9d9b76-de98-41ef-f199-8722a2733d9c"
      },
      "source": [
        "sports = tf.constant([\"Tennis\", \"Basketball\"], tf.string)\r\n",
        "numbers = tf.constant([3.141592, 1.414213, 2.71821], tf.float64)\r\n",
        "\r\n",
        "print(\"`sports` is a {}-d Tensor with shape: {}\".format(tf.rank(sports).numpy(), tf.shape(sports)))\r\n",
        "print(\"`numbers` is a {}-d Tensor with shape: {}\".format(tf.rank(numbers).numpy(), tf.shape(numbers)))"
      ],
      "execution_count": 3,
      "outputs": [
        {
          "output_type": "stream",
          "text": [
            "`sports` is a 1-d Tensor with shape: [2]\n",
            "`numbers` is a 1-d Tensor with shape: [3]\n"
          ],
          "name": "stdout"
        }
      ]
    },
    {
      "cell_type": "code",
      "metadata": {
        "colab": {
          "base_uri": "https://localhost:8080/"
        },
        "id": "P3Fv-I16aViG",
        "outputId": "281e588f-bb51-4505-e64b-a2abb697c1be"
      },
      "source": [
        "sports = tf.constant([[\"Tennis\", \"Basketball\"],[\"Tennis\", \"Basketball\"]], tf.string)\r\n",
        "numbers = tf.constant([[3.141592, 1.414213],[3.141592, 2.71821]], tf.float64)\r\n",
        "\r\n",
        "print(\"`sports` is a {}-d Tensor with shape: {}\".format(tf.rank(sports).numpy(), tf.shape(sports)))\r\n",
        "print(\"`numbers` is a {}-d Tensor with shape: {}\".format(tf.rank(numbers).numpy(), tf.shape(numbers)))"
      ],
      "execution_count": 7,
      "outputs": [
        {
          "output_type": "stream",
          "text": [
            "`sports` is a 2-d Tensor with shape: [2 2]\n",
            "`numbers` is a 2-d Tensor with shape: [2 2]\n"
          ],
          "name": "stdout"
        }
      ]
    },
    {
      "cell_type": "code",
      "metadata": {
        "colab": {
          "base_uri": "https://localhost:8080/"
        },
        "id": "exfEq5nda8la",
        "outputId": "fc31b6a4-7bfe-45a7-b053-c3eab5510a0f"
      },
      "source": [
        "### Defining higher-order Tensors ###\r\n",
        "'''TODO: Define a 2-d Tensor'''\r\n",
        "matrix =tf.constant([[\"Tennis\", \"Basketball\"],\r\n",
        "                     [\"Tennis\", \"Basketball\"]], tf.string) # TODO\r\n",
        "\r\n",
        "assert isinstance(matrix, tf.Tensor), \"matrix must be a tf Tensor object\"\r\n",
        "assert tf.rank(matrix).numpy() == 2\r\n",
        "print(matrix)"
      ],
      "execution_count": 9,
      "outputs": [
        {
          "output_type": "stream",
          "text": [
            "tf.Tensor(\n",
            "[[b'Tennis' b'Basketball']\n",
            " [b'Tennis' b'Basketball']], shape=(2, 2), dtype=string)\n"
          ],
          "name": "stdout"
        }
      ]
    },
    {
      "cell_type": "code",
      "metadata": {
        "colab": {
          "base_uri": "https://localhost:8080/"
        },
        "id": "j8OV_pSJbxSR",
        "outputId": "6f91beb7-781c-4192-bfe7-925d311da64f"
      },
      "source": [
        "matrix1=tf.constant([[[1,2],[3,4]],[[1,2],[3,4]]])\r\n",
        "#here the matrix is 2x2x2\r\n",
        "row_vector = matrix1[1,1]\r\n",
        "column_vector = matrix1[0,0]\r\n",
        "scalar = matrix1[[1, 1,1]]\r\n",
        "#in this example we are printing the row vector of the matrix\r\n",
        "print(\"The matrix is:\")\r\n",
        "print(matrix1)\r\n",
        "print(\"`\\nrow_vector is`: {}\".format(row_vector.numpy()))\r\n",
        "print(\"\\n`column_vector is`: {}\".format(column_vector.numpy()))\r\n",
        "print(\"`\\nscalar`: {}\".format(scalar.numpy()))"
      ],
      "execution_count": 22,
      "outputs": [
        {
          "output_type": "stream",
          "text": [
            "The matrix is:\n",
            "tf.Tensor(\n",
            "[[[1 2]\n",
            "  [3 4]]\n",
            "\n",
            " [[1 2]\n",
            "  [3 4]]], shape=(2, 2, 2), dtype=int32)\n",
            "`\n",
            "row_vector is`: [3 4]\n",
            "\n",
            "`column_vector is`: [1 2]\n",
            "`\n",
            "scalar`: 4\n"
          ],
          "name": "stdout"
        }
      ]
    },
    {
      "cell_type": "markdown",
      "metadata": {
        "id": "hVUpUMCLfKpX"
      },
      "source": [
        "# **1.2 Computations on Tensors**"
      ]
    },
    {
      "cell_type": "markdown",
      "metadata": {
        "id": "0Z_qZi7afN1v"
      },
      "source": [
        "A convenient way to think about and visualize computations in TensorFlow is in terms of **graphs**. We can define this graph in terms of Tensors, which hold data, and the mathematical operations that act on these Tensors in **some order**. Let's look at a simple example, and define this computation using TensorFlow:"
      ]
    },
    {
      "cell_type": "code",
      "metadata": {
        "colab": {
          "base_uri": "https://localhost:8080/"
        },
        "id": "-w0mgUqcfHfo",
        "outputId": "41a687ed-4515-4bd7-e5be-cf1ef4335c42"
      },
      "source": [
        "# Create the nodes in the graph, and initialize values\r\n",
        "a = tf.constant(15)\r\n",
        "b = tf.constant(61)\r\n",
        "\r\n",
        "# Add them!\r\n",
        "c1 = tf.add(a,b)\r\n",
        "c2 = a + b # TensorFlow overrides the \"+\" operation so that it is able to act on Tensors\r\n",
        "print(a)\r\n",
        "print(\"\\n\")\r\n",
        "print(b)\r\n",
        "print(\"\\n\")\r\n",
        "print(c1)\r\n",
        "print(\"\\n\")\r\n",
        "print(c2)"
      ],
      "execution_count": 25,
      "outputs": [
        {
          "output_type": "stream",
          "text": [
            "tf.Tensor(15, shape=(), dtype=int32)\n",
            "\n",
            "\n",
            "tf.Tensor(61, shape=(), dtype=int32)\n",
            "\n",
            "\n",
            "tf.Tensor(76, shape=(), dtype=int32)\n",
            "\n",
            "\n",
            "tf.Tensor(76, shape=(), dtype=int32)\n"
          ],
          "name": "stdout"
        }
      ]
    },
    {
      "cell_type": "code",
      "metadata": {
        "colab": {
          "base_uri": "https://localhost:8080/"
        },
        "id": "3F6LPXTAgPVo",
        "outputId": "24c09254-0897-4dcc-d90f-3be7dd3ab72b"
      },
      "source": [
        "### Defining Tensor computations ###\r\n",
        "# Create the nodes in the graph, and initialize values\r\n",
        "#a = tf.constant(15)\r\n",
        "#b = tf.constant(61)\r\n",
        "# Construct a simple computation function\r\n",
        "def func(a,b):\r\n",
        "  '''TODO: Define the operation for c, d, e (use tf.add, tf.subtract, tf.multiply).'''\r\n",
        "  c = a+b# TODO\r\n",
        "  print(\"\\nValue of c is\")\r\n",
        "  print(c)\r\n",
        "  d =b-1 # TODO\r\n",
        "  print(\"\\nValue of d is\")\r\n",
        "  print(d)\r\n",
        "  e =c*d # TODO\r\n",
        "  return e\r\n",
        "\r\n",
        "\r\n",
        "# Consider example values for a,b\r\n",
        "a, b = 5,6\r\n",
        "# Execute the computation\r\n",
        "e_out = func(a,b)\r\n",
        "print(\"\\nFinal Value is\")\r\n",
        "print(e_out)"
      ],
      "execution_count": 30,
      "outputs": [
        {
          "output_type": "stream",
          "text": [
            "\n",
            "Value of c is\n",
            "11\n",
            "\n",
            "Value of d is\n",
            "5\n",
            "\n",
            "Final Value is\n",
            "55\n"
          ],
          "name": "stdout"
        }
      ]
    },
    {
      "cell_type": "markdown",
      "metadata": {
        "id": "wMOr3jThhT5g"
      },
      "source": [
        "# **1.3 Neural networks in TensorFlow**"
      ]
    },
    {
      "cell_type": "markdown",
      "metadata": {
        "id": "7PoPOp-AhWAe"
      },
      "source": [
        "We can also define neural networks in TensorFlow. TensorFlow uses a high-level API called Keras that provides a powerful, intuitive framework for building and training deep learning models.\r\n",
        "\r\n",
        "Let's first consider the example of a simple perceptron defined by just one dense layer: $ y = \\sigma(Wx + b)$, where $W$ represents a matrix of weights, $b$ is a bias, $x$ is the input, $\\sigma$ is the sigmoid activation function, and $y$ is the output. We can also visualize this operation using a graph:"
      ]
    },
    {
      "cell_type": "code",
      "metadata": {
        "colab": {
          "base_uri": "https://localhost:8080/"
        },
        "id": "Z2aimnejhyEX",
        "outputId": "b1d2394d-3fec-418c-fd9d-8bd2ffc66bfe"
      },
      "source": [
        "### Defining a network Layer ###\r\n",
        "\r\n",
        "# n_output_nodes: number of output nodes\r\n",
        "# input_shape: shape of the input\r\n",
        "# x: input to the layer\r\n",
        "\r\n",
        "class OurDenseLayer(tf.keras.layers.Layer):\r\n",
        "  def __init__(self, n_output_nodes):\r\n",
        "    super(OurDenseLayer, self).__init__()\r\n",
        "    self.n_output_nodes = n_output_nodes\r\n",
        "\r\n",
        "  def build(self, input_shape):\r\n",
        "    d = int(input_shape[-1])\r\n",
        "    # Define and initialize parameters: a weight matrix W and bias b\r\n",
        "    # Note that parameter initialization is random!\r\n",
        "    self.W = self.add_weight(\"weight\", shape=[d, self.n_output_nodes]) # note the dimensionality\r\n",
        "    print(\"\\nThe weight matrix is: \\n\")\r\n",
        "    print(self.W)\r\n",
        "    self.b = self.add_weight(\"bias\", shape=[1, self.n_output_nodes]) # note the dimensionality\r\n",
        "    print(\"\\nThe Bias is: \\n\")\r\n",
        "    print(self.b)\r\n",
        "\r\n",
        "  def call(self, x):\r\n",
        "    '''TODO: define the operation for z (hint: use tf.matmul)'''\r\n",
        "    z = tf.matmul(x,self.W)+self.b # TODO\r\n",
        "    print(\"\\nThe calculated z is: \\n\")\r\n",
        "    print(z)\r\n",
        "\r\n",
        "    '''TODO: define the operation for out (hint: use tf.sigmoid)'''\r\n",
        "    y =tf.sigmoid(z) # TODO\r\n",
        "    print(\"\\nThe calculated y is: \\n\")\r\n",
        "    print(y)\r\n",
        "    return y\r\n",
        "\r\n",
        "# Since layer parameters are initialized randomly, we will set a random seed for reproducibility\r\n",
        "tf.random.set_seed(1)\r\n",
        "#here we have 1 output node\r\n",
        "layer = OurDenseLayer(3)\r\n",
        "layer.build((1,2))\r\n",
        "x_input = tf.constant([[1,2.]], shape=(1,2))\r\n",
        "y = layer.call(x_input)\r\n",
        "\r\n",
        "# test the output!\r\n",
        "print(y.numpy())\r\n",
        "mdl.lab1.test_custom_dense_layer_output(y)\r\n"
      ],
      "execution_count": 36,
      "outputs": [
        {
          "output_type": "stream",
          "text": [
            "\n",
            "The weight matrix is: \n",
            "\n",
            "<tf.Variable 'weight:0' shape=(2, 3) dtype=float32, numpy=\n",
            "array([[-0.73366153,  0.8796015 ,  0.28695   ],\n",
            "       [-0.14340228, -0.4558388 ,  0.3122064 ]], dtype=float32)>\n",
            "\n",
            "The Bias is: \n",
            "\n",
            "<tf.Variable 'bias:0' shape=(1, 3) dtype=float32, numpy=array([[ 0.02475715, -0.13831842, -0.2240473 ]], dtype=float32)>\n",
            "\n",
            "The calculated z is: \n",
            "\n",
            "tf.Tensor([[-0.99570894 -0.17039454  0.68731546]], shape=(1, 3), dtype=float32)\n",
            "\n",
            "The calculated y is: \n",
            "\n",
            "tf.Tensor([[0.26978594 0.45750415 0.66536945]], shape=(1, 3), dtype=float32)\n",
            "[[0.26978594 0.45750415 0.66536945]]\n",
            "[PASS] test_custom_dense_layer_output\n"
          ],
          "name": "stdout"
        },
        {
          "output_type": "execute_result",
          "data": {
            "text/plain": [
              "True"
            ]
          },
          "metadata": {
            "tags": []
          },
          "execution_count": 36
        }
      ]
    },
    {
      "cell_type": "markdown",
      "metadata": {
        "id": "1j5LgdlWl2r9"
      },
      "source": [
        "Conveniently, TensorFlow has defined a number of Layers that are commonly used in neural networks, for example a Dense. Now, instead of using a single Layer to define our simple neural network, we'll use the Sequential model from Keras and a single Dense layer to define our network. With the Sequential API, you can readily create neural networks by stacking together layers like building blocks."
      ]
    },
    {
      "cell_type": "code",
      "metadata": {
        "id": "xUfF5cPamVzc"
      },
      "source": [
        ""
      ],
      "execution_count": null,
      "outputs": []
    },
    {
      "cell_type": "markdown",
      "metadata": {
        "id": "6hd0chFimWTk"
      },
      "source": [
        "# **Keras Sequential Models**"
      ]
    },
    {
      "cell_type": "markdown",
      "metadata": {
        "id": "eHVI8-XXvVwI"
      },
      "source": [
        "# **1. Perceptron**"
      ]
    },
    {
      "cell_type": "markdown",
      "metadata": {
        "id": "ZPg9dnufmexj"
      },
      "source": [
        "The Sequential model API is a way of creating deep learning models where an instance of the Sequential class is created and model layers are created and added to it. The layers can be defined and passed to the Sequential as an **array**.\r\n",
        "###from keras.models import Sequential\r\n",
        "###from keras.layers import Dense\r\n",
        "###model = Sequential([Dense(2, input_dim=1), Dense(1)])*.\r\n",
        "\r\n",
        "# **The Layers can also be added piecewise**\r\n",
        "###from keras.models import Sequential\r\n",
        "\r\n",
        "###from keras.layers import Dense\r\n",
        "\r\n",
        "###model = Sequential([Dense(2, input_dim=1), Dense(1)])"
      ]
    },
    {
      "cell_type": "markdown",
      "metadata": {
        "id": "t1ogs6r1okyk"
      },
      "source": [
        "Models are defined by creating instances of layers and connecting them directly to each other in pairs, then defining a Model that specifies the layers to act as the input and output to the model.\r\n",
        "\r\n",
        "1.Defining Input\r\n",
        "2.Connecting Layers\r\n",
        "3.Creating the Model\r\n",
        "\r\n",
        "\r\n"
      ]
    },
    {
      "cell_type": "code",
      "metadata": {
        "colab": {
          "base_uri": "https://localhost:8080/",
          "height": 538
        },
        "id": "XWP5Kxrvl33M",
        "outputId": "16b13a33-51fb-46a4-8b56-4c94ac2276d0"
      },
      "source": [
        "# Simple Perceptron\r\n",
        "from keras.utils import plot_model\r\n",
        "from keras.models import Model\r\n",
        "from keras.layers import Input\r\n",
        "from keras.layers import Dense\r\n",
        "#When input data is one-dimensional, such as for a multilayer Perceptron, \r\n",
        "#the shape must explicitly leave room for the shape of the mini-batch size used \r\n",
        "#when splitting the data when training the network. Therefore, \r\n",
        "#the shape tuple is always defined with a hanging last dimension when the input is one-dimensional (2,), for example:\r\n",
        "visible = Input(shape=(2,))\r\n",
        "\r\n",
        "'''The layers in the model are connected pairwise.\r\n",
        "This is done by specifying where the input comes from when defining each new layer.\r\n",
        "A bracket notation is used, such that after the layer is created, \r\n",
        "the layer from which the input to the current layer comes from is specified.'''\r\n",
        "\r\n",
        "hidden1 = Dense(2, activation='relu')(visible)\r\n",
        "output = Dense(1, activation='sigmoid')(hidden1)\r\n",
        "\r\n",
        "'''Keras provides a Model class that you can use to create a model from your \r\n",
        "created layers. It requires that you only specify the input and output layers. For example:'''\r\n",
        "\r\n",
        "model1 = Model(inputs=visible, outputs=output)\r\n",
        "\r\n",
        "# summarize layers\r\n",
        "print(model1.summary())\r\n",
        "\r\n",
        "# plot graph\r\n",
        "plot_model(model1, to_file='multilayer_perceptron_graph.png')\r\n",
        "\r\n"
      ],
      "execution_count": 40,
      "outputs": [
        {
          "output_type": "stream",
          "text": [
            "Model: \"model_2\"\n",
            "_________________________________________________________________\n",
            "Layer (type)                 Output Shape              Param #   \n",
            "=================================================================\n",
            "input_4 (InputLayer)         [(None, 2)]               0         \n",
            "_________________________________________________________________\n",
            "dense_10 (Dense)             (None, 2)                 6         \n",
            "_________________________________________________________________\n",
            "dense_11 (Dense)             (None, 1)                 3         \n",
            "=================================================================\n",
            "Total params: 9\n",
            "Trainable params: 9\n",
            "Non-trainable params: 0\n",
            "_________________________________________________________________\n",
            "None\n"
          ],
          "name": "stdout"
        },
        {
          "output_type": "execute_result",
          "data": {
            "image/png": "[encoded data removed]",
            "text/plain": [
              "<IPython.core.display.Image object>"
            ]
          },
          "metadata": {
            "tags": []
          },
          "execution_count": 40
        }
      ]
    },
    {
      "cell_type": "code",
      "metadata": {
        "colab": {
          "base_uri": "https://localhost:8080/"
        },
        "id": "8zsWe_DVyDxv",
        "outputId": "82d2ee1d-f871-4b19-94c3-5cc808bd2924"
      },
      "source": [
        "# first neural network with keras tutorial\r\n",
        "from numpy import loadtxt\r\n",
        "from keras.models import Sequential\r\n",
        "from keras.layers import Dense\r\n",
        "# load the dataset\r\n",
        "dataset = loadtxt('/content/pima-indians-diabetes.csv', delimiter=',')\r\n",
        "# split into input (X) and output (y) variables\r\n",
        "X = dataset[:,0:8]\r\n",
        "y = dataset[:,8]\r\n",
        "# define the keras model\r\n",
        "model = Sequential()\r\n",
        "model.add(Dense(8, input_dim=8, activation='relu'))\r\n",
        "model.add(Dense(8, activation='relu'))\r\n",
        "model.add(Dense(1, activation='sigmoid'))\r\n",
        "\r\n",
        "print(model.summary())\r\n",
        "plot_model(model, to_file='perceptron_graph.png')\r\n",
        "\r\n",
        "# compile the keras model\r\n",
        "model.compile(loss='binary_crossentropy', optimizer='adam', metrics=['accuracy'])\r\n",
        "\r\n",
        "# fit the keras model on the dataset\r\n",
        "model.fit(X, y, epochs=150, batch_size=10)\r\n",
        "# evaluate the keras model\r\n",
        "_, accuracy = model.evaluate(X, y)\r\n",
        "print('Accuracy: %.2f' % (accuracy*100))"
      ],
      "execution_count": 46,
      "outputs": [
        {
          "output_type": "stream",
          "text": [
            "Model: \"sequential_1\"\n",
            "_________________________________________________________________\n",
            "Layer (type)                 Output Shape              Param #   \n",
            "=================================================================\n",
            "dense_15 (Dense)             (None, 8)                 72        \n",
            "_________________________________________________________________\n",
            "dense_16 (Dense)             (None, 8)                 72        \n",
            "_________________________________________________________________\n",
            "dense_17 (Dense)             (None, 1)                 9         \n",
            "=================================================================\n",
            "Total params: 153\n",
            "Trainable params: 153\n",
            "Non-trainable params: 0\n",
            "_________________________________________________________________\n",
            "None\n",
            "Epoch 1/150\n",
            "77/77 [==============================] - 1s 1ms/step - loss: 10.1038 - accuracy: 0.3301\n",
            "Epoch 2/150\n",
            "77/77 [==============================] - 0s 1ms/step - loss: 2.5474 - accuracy: 0.3772\n",
            "Epoch 3/150\n",
            "77/77 [==============================] - 0s 1ms/step - loss: 1.1246 - accuracy: 0.5562\n",
            "Epoch 4/150\n",
            "77/77 [==============================] - 0s 1ms/step - loss: 0.8711 - accuracy: 0.5774\n",
            "Epoch 5/150\n",
            "77/77 [==============================] - 0s 1ms/step - loss: 0.7817 - accuracy: 0.6240\n",
            "Epoch 6/150\n",
            "77/77 [==============================] - 0s 1ms/step - loss: 0.7573 - accuracy: 0.6053\n",
            "Epoch 7/150\n",
            "77/77 [==============================] - 0s 1ms/step - loss: 0.6776 - accuracy: 0.6633\n",
            "Epoch 8/150\n",
            "77/77 [==============================] - 0s 1ms/step - loss: 0.6729 - accuracy: 0.6448\n",
            "Epoch 9/150\n",
            "77/77 [==============================] - 0s 1ms/step - loss: 0.6497 - accuracy: 0.6567\n",
            "Epoch 10/150\n",
            "77/77 [==============================] - 0s 1ms/step - loss: 0.6733 - accuracy: 0.6535\n",
            "Epoch 11/150\n",
            "77/77 [==============================] - 0s 2ms/step - loss: 0.6689 - accuracy: 0.6607\n",
            "Epoch 12/150\n",
            "77/77 [==============================] - 0s 1ms/step - loss: 0.6603 - accuracy: 0.6292\n",
            "Epoch 13/150\n",
            "77/77 [==============================] - 0s 1ms/step - loss: 0.6540 - accuracy: 0.6508\n",
            "Epoch 14/150\n",
            "77/77 [==============================] - 0s 1ms/step - loss: 0.6552 - accuracy: 0.6282\n",
            "Epoch 15/150\n",
            "77/77 [==============================] - 0s 1ms/step - loss: 0.6528 - accuracy: 0.6128\n",
            "Epoch 16/150\n",
            "77/77 [==============================] - 0s 1ms/step - loss: 0.6278 - accuracy: 0.6595\n",
            "Epoch 17/150\n",
            "77/77 [==============================] - 0s 1ms/step - loss: 0.6266 - accuracy: 0.6723\n",
            "Epoch 18/150\n",
            "77/77 [==============================] - 0s 1ms/step - loss: 0.6382 - accuracy: 0.6574\n",
            "Epoch 19/150\n",
            "77/77 [==============================] - 0s 1ms/step - loss: 0.6642 - accuracy: 0.6105\n",
            "Epoch 20/150\n",
            "77/77 [==============================] - 0s 1ms/step - loss: 0.6458 - accuracy: 0.6367\n",
            "Epoch 21/150\n",
            "77/77 [==============================] - 0s 1ms/step - loss: 0.6395 - accuracy: 0.6552\n",
            "Epoch 22/150\n",
            "77/77 [==============================] - 0s 1ms/step - loss: 0.6253 - accuracy: 0.6655\n",
            "Epoch 23/150\n",
            "77/77 [==============================] - 0s 1ms/step - loss: 0.6306 - accuracy: 0.6535\n",
            "Epoch 24/150\n",
            "77/77 [==============================] - 0s 1ms/step - loss: 0.6278 - accuracy: 0.6455\n",
            "Epoch 25/150\n",
            "77/77 [==============================] - 0s 1ms/step - loss: 0.6550 - accuracy: 0.6211\n",
            "Epoch 26/150\n",
            "77/77 [==============================] - 0s 1ms/step - loss: 0.6324 - accuracy: 0.6574\n",
            "Epoch 27/150\n",
            "77/77 [==============================] - 0s 1ms/step - loss: 0.6158 - accuracy: 0.6606\n",
            "Epoch 28/150\n",
            "77/77 [==============================] - 0s 1ms/step - loss: 0.6290 - accuracy: 0.6464\n",
            "Epoch 29/150\n",
            "77/77 [==============================] - 0s 1ms/step - loss: 0.6279 - accuracy: 0.6409\n",
            "Epoch 30/150\n",
            "77/77 [==============================] - 0s 1ms/step - loss: 0.6098 - accuracy: 0.6668\n",
            "Epoch 31/150\n",
            "77/77 [==============================] - 0s 1ms/step - loss: 0.6238 - accuracy: 0.6526\n",
            "Epoch 32/150\n",
            "77/77 [==============================] - 0s 1ms/step - loss: 0.6168 - accuracy: 0.6601\n",
            "Epoch 33/150\n",
            "77/77 [==============================] - 0s 2ms/step - loss: 0.6157 - accuracy: 0.6675\n",
            "Epoch 34/150\n",
            "77/77 [==============================] - 0s 1ms/step - loss: 0.6338 - accuracy: 0.6464\n",
            "Epoch 35/150\n",
            "77/77 [==============================] - 0s 1ms/step - loss: 0.6249 - accuracy: 0.6564\n",
            "Epoch 36/150\n",
            "77/77 [==============================] - 0s 2ms/step - loss: 0.6123 - accuracy: 0.6676\n",
            "Epoch 37/150\n",
            "77/77 [==============================] - 0s 1ms/step - loss: 0.6060 - accuracy: 0.6699\n",
            "Epoch 38/150\n",
            "77/77 [==============================] - 0s 1ms/step - loss: 0.6231 - accuracy: 0.6668\n",
            "Epoch 39/150\n",
            "77/77 [==============================] - 0s 2ms/step - loss: 0.6185 - accuracy: 0.6605\n",
            "Epoch 40/150\n",
            "77/77 [==============================] - 0s 1ms/step - loss: 0.6099 - accuracy: 0.6666\n",
            "Epoch 41/150\n",
            "77/77 [==============================] - 0s 1ms/step - loss: 0.5967 - accuracy: 0.6962\n",
            "Epoch 42/150\n",
            "77/77 [==============================] - 0s 1ms/step - loss: 0.6045 - accuracy: 0.6605\n",
            "Epoch 43/150\n",
            "77/77 [==============================] - 0s 1ms/step - loss: 0.5938 - accuracy: 0.6813\n",
            "Epoch 44/150\n",
            "77/77 [==============================] - 0s 1ms/step - loss: 0.5932 - accuracy: 0.6906\n",
            "Epoch 45/150\n",
            "77/77 [==============================] - 0s 1ms/step - loss: 0.6164 - accuracy: 0.6779\n",
            "Epoch 46/150\n",
            "77/77 [==============================] - 0s 1ms/step - loss: 0.6031 - accuracy: 0.6565\n",
            "Epoch 47/150\n",
            "77/77 [==============================] - 0s 1ms/step - loss: 0.5985 - accuracy: 0.6623\n",
            "Epoch 48/150\n",
            "77/77 [==============================] - 0s 1ms/step - loss: 0.5848 - accuracy: 0.6939\n",
            "Epoch 49/150\n",
            "77/77 [==============================] - 0s 1ms/step - loss: 0.5986 - accuracy: 0.6721\n",
            "Epoch 50/150\n",
            "77/77 [==============================] - 0s 1ms/step - loss: 0.5780 - accuracy: 0.6953\n",
            "Epoch 51/150\n",
            "77/77 [==============================] - 0s 1ms/step - loss: 0.5885 - accuracy: 0.6887\n",
            "Epoch 52/150\n",
            "77/77 [==============================] - 0s 1ms/step - loss: 0.5932 - accuracy: 0.6988\n",
            "Epoch 53/150\n",
            "77/77 [==============================] - 0s 1ms/step - loss: 0.5733 - accuracy: 0.7160\n",
            "Epoch 54/150\n",
            "77/77 [==============================] - 0s 1ms/step - loss: 0.5737 - accuracy: 0.7125\n",
            "Epoch 55/150\n",
            "77/77 [==============================] - 0s 1ms/step - loss: 0.5773 - accuracy: 0.6940\n",
            "Epoch 56/150\n",
            "77/77 [==============================] - 0s 1ms/step - loss: 0.5603 - accuracy: 0.7220\n",
            "Epoch 57/150\n",
            "77/77 [==============================] - 0s 1ms/step - loss: 0.5489 - accuracy: 0.7327\n",
            "Epoch 58/150\n",
            "77/77 [==============================] - 0s 1ms/step - loss: 0.5655 - accuracy: 0.7153\n",
            "Epoch 59/150\n",
            "77/77 [==============================] - 0s 1ms/step - loss: 0.5755 - accuracy: 0.7092\n",
            "Epoch 60/150\n",
            "77/77 [==============================] - 0s 1ms/step - loss: 0.5806 - accuracy: 0.7104\n",
            "Epoch 61/150\n",
            "77/77 [==============================] - 0s 1ms/step - loss: 0.5906 - accuracy: 0.6899\n",
            "Epoch 62/150\n",
            "77/77 [==============================] - 0s 1ms/step - loss: 0.5507 - accuracy: 0.7163\n",
            "Epoch 63/150\n",
            "77/77 [==============================] - 0s 1ms/step - loss: 0.5335 - accuracy: 0.7524\n",
            "Epoch 64/150\n",
            "77/77 [==============================] - 0s 1ms/step - loss: 0.5638 - accuracy: 0.7293\n",
            "Epoch 65/150\n",
            "77/77 [==============================] - 0s 1ms/step - loss: 0.5624 - accuracy: 0.7095\n",
            "Epoch 66/150\n",
            "77/77 [==============================] - 0s 2ms/step - loss: 0.5392 - accuracy: 0.7429\n",
            "Epoch 67/150\n",
            "77/77 [==============================] - 0s 1ms/step - loss: 0.5743 - accuracy: 0.7081\n",
            "Epoch 68/150\n",
            "77/77 [==============================] - 0s 1ms/step - loss: 0.5525 - accuracy: 0.7240\n",
            "Epoch 69/150\n",
            "77/77 [==============================] - 0s 1ms/step - loss: 0.5490 - accuracy: 0.7376\n",
            "Epoch 70/150\n",
            "77/77 [==============================] - 0s 1ms/step - loss: 0.5466 - accuracy: 0.7460\n",
            "Epoch 71/150\n",
            "77/77 [==============================] - 0s 1ms/step - loss: 0.5509 - accuracy: 0.7259\n",
            "Epoch 72/150\n",
            "77/77 [==============================] - 0s 1ms/step - loss: 0.5525 - accuracy: 0.7099\n",
            "Epoch 73/150\n",
            "77/77 [==============================] - 0s 1ms/step - loss: 0.5288 - accuracy: 0.7416\n",
            "Epoch 74/150\n",
            "77/77 [==============================] - 0s 1ms/step - loss: 0.5317 - accuracy: 0.7507\n",
            "Epoch 75/150\n",
            "77/77 [==============================] - 0s 1ms/step - loss: 0.5481 - accuracy: 0.7305\n",
            "Epoch 76/150\n",
            "77/77 [==============================] - 0s 1ms/step - loss: 0.5129 - accuracy: 0.7702\n",
            "Epoch 77/150\n",
            "77/77 [==============================] - 0s 1ms/step - loss: 0.5152 - accuracy: 0.7520\n",
            "Epoch 78/150\n",
            "77/77 [==============================] - 0s 1ms/step - loss: 0.5330 - accuracy: 0.7418\n",
            "Epoch 79/150\n",
            "77/77 [==============================] - 0s 1ms/step - loss: 0.5260 - accuracy: 0.7480\n",
            "Epoch 80/150\n",
            "77/77 [==============================] - 0s 1ms/step - loss: 0.5313 - accuracy: 0.7505\n",
            "Epoch 81/150\n",
            "77/77 [==============================] - 0s 1ms/step - loss: 0.5146 - accuracy: 0.7660\n",
            "Epoch 82/150\n",
            "77/77 [==============================] - 0s 1ms/step - loss: 0.5038 - accuracy: 0.7637\n",
            "Epoch 83/150\n",
            "77/77 [==============================] - 0s 1ms/step - loss: 0.5259 - accuracy: 0.7346\n",
            "Epoch 84/150\n",
            "77/77 [==============================] - 0s 1ms/step - loss: 0.5026 - accuracy: 0.7624\n",
            "Epoch 85/150\n",
            "77/77 [==============================] - 0s 1ms/step - loss: 0.5284 - accuracy: 0.7546\n",
            "Epoch 86/150\n",
            "77/77 [==============================] - 0s 1ms/step - loss: 0.5150 - accuracy: 0.7602\n",
            "Epoch 87/150\n",
            "77/77 [==============================] - 0s 1ms/step - loss: 0.5201 - accuracy: 0.7599\n",
            "Epoch 88/150\n",
            "77/77 [==============================] - 0s 1ms/step - loss: 0.5434 - accuracy: 0.7278\n",
            "Epoch 89/150\n",
            "77/77 [==============================] - 0s 1ms/step - loss: 0.5300 - accuracy: 0.7393\n",
            "Epoch 90/150\n",
            "77/77 [==============================] - 0s 1ms/step - loss: 0.5104 - accuracy: 0.7494\n",
            "Epoch 91/150\n",
            "77/77 [==============================] - 0s 2ms/step - loss: 0.5323 - accuracy: 0.7464\n",
            "Epoch 92/150\n",
            "77/77 [==============================] - 0s 1ms/step - loss: 0.5129 - accuracy: 0.7692\n",
            "Epoch 93/150\n",
            "77/77 [==============================] - 0s 1ms/step - loss: 0.5488 - accuracy: 0.7276\n",
            "Epoch 94/150\n",
            "77/77 [==============================] - 0s 1ms/step - loss: 0.4866 - accuracy: 0.7794\n",
            "Epoch 95/150\n",
            "77/77 [==============================] - 0s 1ms/step - loss: 0.5145 - accuracy: 0.7689\n",
            "Epoch 96/150\n",
            "77/77 [==============================] - 0s 1ms/step - loss: 0.5258 - accuracy: 0.7386\n",
            "Epoch 97/150\n",
            "77/77 [==============================] - 0s 1ms/step - loss: 0.5185 - accuracy: 0.7548\n",
            "Epoch 98/150\n",
            "77/77 [==============================] - 0s 1ms/step - loss: 0.5240 - accuracy: 0.7432\n",
            "Epoch 99/150\n",
            "77/77 [==============================] - 0s 1ms/step - loss: 0.5269 - accuracy: 0.7477\n",
            "Epoch 100/150\n",
            "77/77 [==============================] - 0s 1ms/step - loss: 0.5367 - accuracy: 0.7365\n",
            "Epoch 101/150\n",
            "77/77 [==============================] - 0s 1ms/step - loss: 0.5236 - accuracy: 0.7459\n",
            "Epoch 102/150\n",
            "77/77 [==============================] - 0s 1ms/step - loss: 0.4966 - accuracy: 0.7642\n",
            "Epoch 103/150\n",
            "77/77 [==============================] - 0s 1ms/step - loss: 0.5165 - accuracy: 0.7486\n",
            "Epoch 104/150\n",
            "77/77 [==============================] - 0s 1ms/step - loss: 0.5089 - accuracy: 0.7593\n",
            "Epoch 105/150\n",
            "77/77 [==============================] - 0s 1ms/step - loss: 0.5053 - accuracy: 0.7482\n",
            "Epoch 106/150\n",
            "77/77 [==============================] - 0s 1ms/step - loss: 0.5123 - accuracy: 0.7284\n",
            "Epoch 107/150\n",
            "77/77 [==============================] - 0s 1ms/step - loss: 0.4666 - accuracy: 0.7964\n",
            "Epoch 108/150\n",
            "77/77 [==============================] - 0s 1ms/step - loss: 0.5041 - accuracy: 0.7492\n",
            "Epoch 109/150\n",
            "77/77 [==============================] - 0s 1ms/step - loss: 0.5062 - accuracy: 0.7563\n",
            "Epoch 110/150\n",
            "77/77 [==============================] - 0s 1ms/step - loss: 0.5080 - accuracy: 0.7626\n",
            "Epoch 111/150\n",
            "77/77 [==============================] - 0s 1ms/step - loss: 0.5158 - accuracy: 0.7245\n",
            "Epoch 112/150\n",
            "77/77 [==============================] - 0s 1ms/step - loss: 0.4858 - accuracy: 0.7886\n",
            "Epoch 113/150\n",
            "77/77 [==============================] - 0s 1ms/step - loss: 0.4780 - accuracy: 0.7690\n",
            "Epoch 114/150\n",
            "77/77 [==============================] - 0s 1ms/step - loss: 0.5056 - accuracy: 0.7532\n",
            "Epoch 115/150\n",
            "77/77 [==============================] - 0s 1ms/step - loss: 0.4954 - accuracy: 0.7706\n",
            "Epoch 116/150\n",
            "77/77 [==============================] - 0s 1ms/step - loss: 0.5130 - accuracy: 0.7624\n",
            "Epoch 117/150\n",
            "77/77 [==============================] - 0s 1ms/step - loss: 0.5081 - accuracy: 0.7576\n",
            "Epoch 118/150\n",
            "77/77 [==============================] - 0s 1ms/step - loss: 0.5015 - accuracy: 0.7599\n",
            "Epoch 119/150\n",
            "77/77 [==============================] - 0s 1ms/step - loss: 0.4898 - accuracy: 0.7782\n",
            "Epoch 120/150\n",
            "77/77 [==============================] - 0s 1ms/step - loss: 0.5186 - accuracy: 0.7503\n",
            "Epoch 121/150\n",
            "77/77 [==============================] - 0s 1ms/step - loss: 0.4911 - accuracy: 0.7802\n",
            "Epoch 122/150\n",
            "77/77 [==============================] - 0s 1ms/step - loss: 0.5031 - accuracy: 0.7511\n",
            "Epoch 123/150\n",
            "77/77 [==============================] - 0s 1ms/step - loss: 0.5081 - accuracy: 0.7539\n",
            "Epoch 124/150\n",
            "77/77 [==============================] - 0s 1ms/step - loss: 0.5259 - accuracy: 0.7342\n",
            "Epoch 125/150\n",
            "77/77 [==============================] - 0s 1ms/step - loss: 0.5078 - accuracy: 0.7435\n",
            "Epoch 126/150\n",
            "77/77 [==============================] - 0s 1ms/step - loss: 0.5081 - accuracy: 0.7577\n",
            "Epoch 127/150\n",
            "77/77 [==============================] - 0s 1ms/step - loss: 0.4879 - accuracy: 0.7682\n",
            "Epoch 128/150\n",
            "77/77 [==============================] - 0s 1ms/step - loss: 0.4613 - accuracy: 0.7877\n",
            "Epoch 129/150\n",
            "77/77 [==============================] - 0s 1ms/step - loss: 0.5053 - accuracy: 0.7719\n",
            "Epoch 130/150\n",
            "77/77 [==============================] - 0s 1ms/step - loss: 0.5056 - accuracy: 0.7496\n",
            "Epoch 131/150\n",
            "77/77 [==============================] - 0s 1ms/step - loss: 0.5026 - accuracy: 0.7684\n",
            "Epoch 132/150\n",
            "77/77 [==============================] - 0s 1ms/step - loss: 0.4691 - accuracy: 0.7795\n",
            "Epoch 133/150\n",
            "77/77 [==============================] - 0s 1ms/step - loss: 0.5187 - accuracy: 0.7403\n",
            "Epoch 134/150\n",
            "77/77 [==============================] - 0s 1ms/step - loss: 0.5250 - accuracy: 0.7385\n",
            "Epoch 135/150\n",
            "77/77 [==============================] - 0s 1ms/step - loss: 0.4931 - accuracy: 0.7684\n",
            "Epoch 136/150\n",
            "77/77 [==============================] - 0s 1ms/step - loss: 0.4829 - accuracy: 0.7746\n",
            "Epoch 137/150\n",
            "77/77 [==============================] - 0s 1ms/step - loss: 0.4807 - accuracy: 0.7758\n",
            "Epoch 138/150\n",
            "77/77 [==============================] - 0s 1ms/step - loss: 0.4838 - accuracy: 0.7764\n",
            "Epoch 139/150\n",
            "77/77 [==============================] - 0s 1ms/step - loss: 0.4991 - accuracy: 0.7636\n",
            "Epoch 140/150\n",
            "77/77 [==============================] - 0s 1ms/step - loss: 0.4829 - accuracy: 0.7640\n",
            "Epoch 141/150\n",
            "77/77 [==============================] - 0s 1ms/step - loss: 0.4797 - accuracy: 0.7625\n",
            "Epoch 142/150\n",
            "77/77 [==============================] - 0s 1ms/step - loss: 0.5087 - accuracy: 0.7604\n",
            "Epoch 143/150\n",
            "77/77 [==============================] - 0s 1ms/step - loss: 0.4936 - accuracy: 0.7677\n",
            "Epoch 144/150\n",
            "77/77 [==============================] - 0s 1ms/step - loss: 0.5314 - accuracy: 0.7268\n",
            "Epoch 145/150\n",
            "77/77 [==============================] - 0s 1ms/step - loss: 0.4724 - accuracy: 0.7852\n",
            "Epoch 146/150\n",
            "77/77 [==============================] - 0s 1ms/step - loss: 0.4621 - accuracy: 0.7806\n",
            "Epoch 147/150\n",
            "77/77 [==============================] - 0s 1ms/step - loss: 0.4660 - accuracy: 0.7943\n",
            "Epoch 148/150\n",
            "77/77 [==============================] - 0s 1ms/step - loss: 0.4957 - accuracy: 0.7577\n",
            "Epoch 149/150\n",
            "77/77 [==============================] - 0s 1ms/step - loss: 0.4918 - accuracy: 0.7637\n",
            "Epoch 150/150\n",
            "77/77 [==============================] - 0s 1ms/step - loss: 0.4899 - accuracy: 0.7817\n",
            "24/24 [==============================] - 0s 1ms/step - loss: 0.4997 - accuracy: 0.7591\n",
            "Accuracy: 75.91\n"
          ],
          "name": "stdout"
        }
      ]
    },
    {
      "cell_type": "markdown",
      "metadata": {
        "id": "p0WwenYTucXx"
      },
      "source": [
        "# ***2. Multi layer perceptron***"
      ]
    },
    {
      "cell_type": "code",
      "metadata": {
        "colab": {
          "base_uri": "https://localhost:8080/",
          "height": 1000
        },
        "id": "RoGRP1EQujU_",
        "outputId": "1ee876e1-e4e8-4588-ad28-f8fff5fd7d70"
      },
      "source": [
        "# Multilayer Perceptron\r\n",
        "from keras.utils import plot_model\r\n",
        "from keras.models import Model\r\n",
        "from keras.layers import Input\r\n",
        "from keras.layers import Dense\r\n",
        "#When input data is one-dimensional, such as for a multilayer Perceptron, \r\n",
        "#the shape must explicitly leave room for the shape of the mini-batch size used \r\n",
        "#when splitting the data when training the network. Therefore, \r\n",
        "#the shape tuple is always defined with a hanging last dimension when the input is one-dimensional (2,), for example:\r\n",
        "visible = Input(shape=(10,))\r\n",
        "\r\n",
        "'''The layers in the model are connected pairwise.\r\n",
        "This is done by specifying where the input comes from when defining each new layer.\r\n",
        "A bracket notation is used, such that after the layer is created, \r\n",
        "the layer from which the input to the current layer comes from is specified.'''\r\n",
        "\r\n",
        "hidden1 = Dense(10, activation='relu')(visible)\r\n",
        "hidden2 = Dense(20, activation='relu')(hidden1)\r\n",
        "hidden3 = Dense(30, activation='relu')(hidden2)\r\n",
        "hidden4 = Dense(20, activation='relu')(hidden3)\r\n",
        "hidden5 = Dense(10, activation='relu')(hidden4)\r\n",
        "output = Dense(1, activation='sigmoid')(hidden5)\r\n",
        "\r\n",
        "'''Keras provides a Model class that you can use to create a model from your \r\n",
        "created layers. It requires that you only specify the input and output layers. For example:'''\r\n",
        "\r\n",
        "model = Model(inputs=visible, outputs=output)\r\n",
        "\r\n",
        "# summarize layers\r\n",
        "print(model.summary())\r\n",
        "\r\n",
        "# plot graph\r\n",
        "plot_model(model, to_file='multilayer_perceptron_graph.png')"
      ],
      "execution_count": 49,
      "outputs": [
        {
          "output_type": "stream",
          "text": [
            "Model: \"model_3\"\n",
            "_________________________________________________________________\n",
            "Layer (type)                 Output Shape              Param #   \n",
            "=================================================================\n",
            "input_7 (InputLayer)         [(None, 10)]              0         \n",
            "_________________________________________________________________\n",
            "dense_25 (Dense)             (None, 10)                110       \n",
            "_________________________________________________________________\n",
            "dense_26 (Dense)             (None, 20)                220       \n",
            "_________________________________________________________________\n",
            "dense_27 (Dense)             (None, 30)                630       \n",
            "_________________________________________________________________\n",
            "dense_28 (Dense)             (None, 20)                620       \n",
            "_________________________________________________________________\n",
            "dense_29 (Dense)             (None, 10)                210       \n",
            "_________________________________________________________________\n",
            "dense_30 (Dense)             (None, 1)                 11        \n",
            "=================================================================\n",
            "Total params: 1,801\n",
            "Trainable params: 1,801\n",
            "Non-trainable params: 0\n",
            "_________________________________________________________________\n",
            "None\n"
          ],
          "name": "stdout"
        },
        {
          "output_type": "execute_result",
          "data": {
            "image/png": "[encoded data removed]",
            "text/plain": [
              "<IPython.core.display.Image object>"
            ]
          },
          "metadata": {
            "tags": []
          },
          "execution_count": 49
        }
      ]
    },
    {
      "cell_type": "markdown",
      "metadata": {
        "id": "41prPHfZvijf"
      },
      "source": [
        "# **3. Using the model**"
      ]
    },
    {
      "cell_type": "code",
      "metadata": {
        "colab": {
          "base_uri": "https://localhost:8080/",
          "height": 405
        },
        "id": "a98bUFryviO3",
        "outputId": "76177336-893d-481e-8e35-900acc79b10a"
      },
      "source": [
        "# first neural network with keras tutorial\r\n",
        "from numpy import loadtxt\r\n",
        "from keras.models import Sequential\r\n",
        "from keras.layers import Dense\r\n",
        "# load the dataset\r\n",
        "dataset = loadtxt('/content/pima-indians-diabetes.csv', delimiter=',')\r\n",
        "# split into input (X) and output (y) variables\r\n",
        "X = dataset[:,0:8]\r\n",
        "y = dataset[:,8]\r\n",
        "# define the keras model\r\n",
        "model = Sequential()\r\n",
        "model.add(Dense(8, input_dim=8, activation='relu'))\r\n",
        "model.add(Dense(16, input_dim=8, activation='relu'))\r\n",
        "model.add(Dense(32, input_dim=8, activation='relu'))\r\n",
        "model.add(Dense(32, input_dim=8, activation='relu'))\r\n",
        "model.add(Dense(64, input_dim=8, activation='relu'))\r\n",
        "#model.add(Dense(128, input_dim=8, activation='relu'))\r\n",
        "#model.add(Dense(256, input_dim=8, activation='relu'))\r\n",
        "#model.add(Dense(512, input_dim=8, activation='relu'))\r\n",
        "#model.add(Dense(256, input_dim=8, activation='relu'))\r\n",
        "#model.add(Dense(128, input_dim=8, activation='relu'))\r\n",
        "#model.add(Dense(64, input_dim=8, activation='relu'))\r\n",
        "model.add(Dense(32, input_dim=8, activation='relu'))\r\n",
        "model.add(Dense(16, input_dim=8, activation='relu'))\r\n",
        "model.add(Dense(8, activation='relu'))\r\n",
        "model.add(Dense(1, activation='sigmoid'))\r\n",
        "\r\n",
        "print(model.summary())\r\n",
        "plot_model(model, to_file='perceptron_graph.png')\r\n",
        "\r\n",
        "# compile the keras model\r\n",
        "model.compile(loss='binary_crossentropy', optimizer='adam', metrics=['accuracy'])\r\n",
        "\r\n",
        "# fit the keras model on the dataset\r\n",
        "model.fit(X, y, epochs=150, batch_size=10)\r\n",
        "# evaluate the keras model\r\n",
        "_, accuracy = model.evaluate(X, y)\r\n",
        "print('Accuracy: %.2f' % (accuracy*100))"
      ],
      "execution_count": 56,
      "outputs": [
        {
          "output_type": "error",
          "ename": "ValueError",
          "evalue": "ignored",
          "traceback": [
            "\u001b[0;31m---------------------------------------------------------------------------\u001b[0m",
            "\u001b[0;31mValueError\u001b[0m                                Traceback (most recent call last)",
            "\u001b[0;32m<ipython-input-56-c34f567f0a3b>\u001b[0m in \u001b[0;36m<module>\u001b[0;34m()\u001b[0m\n\u001b[1;32m     10\u001b[0m \u001b[0;31m# define the keras model\u001b[0m\u001b[0;34m\u001b[0m\u001b[0;34m\u001b[0m\u001b[0;34m\u001b[0m\u001b[0m\n\u001b[1;32m     11\u001b[0m \u001b[0mmodel\u001b[0m \u001b[0;34m=\u001b[0m \u001b[0mSequential\u001b[0m\u001b[0;34m(\u001b[0m\u001b[0;34m)\u001b[0m\u001b[0;34m\u001b[0m\u001b[0;34m\u001b[0m\u001b[0m\n\u001b[0;32m---> 12\u001b[0;31m \u001b[0mmodel\u001b[0m\u001b[0;34m.\u001b[0m\u001b[0madd\u001b[0m\u001b[0;34m(\u001b[0m\u001b[0mDense\u001b[0m\u001b[0;34m(\u001b[0m\u001b[0;36m8\u001b[0m\u001b[0;34m,\u001b[0m \u001b[0minput_dim\u001b[0m\u001b[0;34m=\u001b[0m\u001b[0;36m8\u001b[0m\u001b[0;34m,\u001b[0m \u001b[0mactivation\u001b[0m\u001b[0;34m=\u001b[0m\u001b[0;34m'leakyrelu'\u001b[0m\u001b[0;34m)\u001b[0m\u001b[0;34m)\u001b[0m\u001b[0;34m\u001b[0m\u001b[0;34m\u001b[0m\u001b[0m\n\u001b[0m\u001b[1;32m     13\u001b[0m \u001b[0mmodel\u001b[0m\u001b[0;34m.\u001b[0m\u001b[0madd\u001b[0m\u001b[0;34m(\u001b[0m\u001b[0mDense\u001b[0m\u001b[0;34m(\u001b[0m\u001b[0;36m16\u001b[0m\u001b[0;34m,\u001b[0m \u001b[0minput_dim\u001b[0m\u001b[0;34m=\u001b[0m\u001b[0;36m8\u001b[0m\u001b[0;34m,\u001b[0m \u001b[0mactivation\u001b[0m\u001b[0;34m=\u001b[0m\u001b[0;34m'relu'\u001b[0m\u001b[0;34m)\u001b[0m\u001b[0;34m)\u001b[0m\u001b[0;34m\u001b[0m\u001b[0;34m\u001b[0m\u001b[0m\n\u001b[1;32m     14\u001b[0m \u001b[0mmodel\u001b[0m\u001b[0;34m.\u001b[0m\u001b[0madd\u001b[0m\u001b[0;34m(\u001b[0m\u001b[0mDense\u001b[0m\u001b[0;34m(\u001b[0m\u001b[0;36m32\u001b[0m\u001b[0;34m,\u001b[0m \u001b[0minput_dim\u001b[0m\u001b[0;34m=\u001b[0m\u001b[0;36m8\u001b[0m\u001b[0;34m,\u001b[0m \u001b[0mactivation\u001b[0m\u001b[0;34m=\u001b[0m\u001b[0;34m'relu'\u001b[0m\u001b[0;34m)\u001b[0m\u001b[0;34m)\u001b[0m\u001b[0;34m\u001b[0m\u001b[0;34m\u001b[0m\u001b[0m\n",
            "\u001b[0;32m/usr/local/lib/python3.7/dist-packages/tensorflow/python/keras/layers/core.py\u001b[0m in \u001b[0;36m__init__\u001b[0;34m(self, units, activation, use_bias, kernel_initializer, bias_initializer, kernel_regularizer, bias_regularizer, activity_regularizer, kernel_constraint, bias_constraint, **kwargs)\u001b[0m\n\u001b[1;32m   1159\u001b[0m \u001b[0;34m\u001b[0m\u001b[0m\n\u001b[1;32m   1160\u001b[0m     \u001b[0mself\u001b[0m\u001b[0;34m.\u001b[0m\u001b[0munits\u001b[0m \u001b[0;34m=\u001b[0m \u001b[0mint\u001b[0m\u001b[0;34m(\u001b[0m\u001b[0munits\u001b[0m\u001b[0;34m)\u001b[0m \u001b[0;32mif\u001b[0m \u001b[0;32mnot\u001b[0m \u001b[0misinstance\u001b[0m\u001b[0;34m(\u001b[0m\u001b[0munits\u001b[0m\u001b[0;34m,\u001b[0m \u001b[0mint\u001b[0m\u001b[0;34m)\u001b[0m \u001b[0;32melse\u001b[0m \u001b[0munits\u001b[0m\u001b[0;34m\u001b[0m\u001b[0;34m\u001b[0m\u001b[0m\n\u001b[0;32m-> 1161\u001b[0;31m     \u001b[0mself\u001b[0m\u001b[0;34m.\u001b[0m\u001b[0mactivation\u001b[0m \u001b[0;34m=\u001b[0m \u001b[0mactivations\u001b[0m\u001b[0;34m.\u001b[0m\u001b[0mget\u001b[0m\u001b[0;34m(\u001b[0m\u001b[0mactivation\u001b[0m\u001b[0;34m)\u001b[0m\u001b[0;34m\u001b[0m\u001b[0;34m\u001b[0m\u001b[0m\n\u001b[0m\u001b[1;32m   1162\u001b[0m     \u001b[0mself\u001b[0m\u001b[0;34m.\u001b[0m\u001b[0muse_bias\u001b[0m \u001b[0;34m=\u001b[0m \u001b[0muse_bias\u001b[0m\u001b[0;34m\u001b[0m\u001b[0;34m\u001b[0m\u001b[0m\n\u001b[1;32m   1163\u001b[0m     \u001b[0mself\u001b[0m\u001b[0;34m.\u001b[0m\u001b[0mkernel_initializer\u001b[0m \u001b[0;34m=\u001b[0m \u001b[0minitializers\u001b[0m\u001b[0;34m.\u001b[0m\u001b[0mget\u001b[0m\u001b[0;34m(\u001b[0m\u001b[0mkernel_initializer\u001b[0m\u001b[0;34m)\u001b[0m\u001b[0;34m\u001b[0m\u001b[0;34m\u001b[0m\u001b[0m\n",
            "\u001b[0;32m/usr/local/lib/python3.7/dist-packages/tensorflow/python/util/dispatch.py\u001b[0m in \u001b[0;36mwrapper\u001b[0;34m(*args, **kwargs)\u001b[0m\n\u001b[1;32m    199\u001b[0m     \u001b[0;34m\"\"\"Call target, and fall back on dispatchers if there is a TypeError.\"\"\"\u001b[0m\u001b[0;34m\u001b[0m\u001b[0;34m\u001b[0m\u001b[0m\n\u001b[1;32m    200\u001b[0m     \u001b[0;32mtry\u001b[0m\u001b[0;34m:\u001b[0m\u001b[0;34m\u001b[0m\u001b[0;34m\u001b[0m\u001b[0m\n\u001b[0;32m--> 201\u001b[0;31m       \u001b[0;32mreturn\u001b[0m \u001b[0mtarget\u001b[0m\u001b[0;34m(\u001b[0m\u001b[0;34m*\u001b[0m\u001b[0margs\u001b[0m\u001b[0;34m,\u001b[0m \u001b[0;34m**\u001b[0m\u001b[0mkwargs\u001b[0m\u001b[0;34m)\u001b[0m\u001b[0;34m\u001b[0m\u001b[0;34m\u001b[0m\u001b[0m\n\u001b[0m\u001b[1;32m    202\u001b[0m     \u001b[0;32mexcept\u001b[0m \u001b[0;34m(\u001b[0m\u001b[0mTypeError\u001b[0m\u001b[0;34m,\u001b[0m \u001b[0mValueError\u001b[0m\u001b[0;34m)\u001b[0m\u001b[0;34m:\u001b[0m\u001b[0;34m\u001b[0m\u001b[0;34m\u001b[0m\u001b[0m\n\u001b[1;32m    203\u001b[0m       \u001b[0;31m# Note: convert_to_eager_tensor currently raises a ValueError, not a\u001b[0m\u001b[0;34m\u001b[0m\u001b[0;34m\u001b[0m\u001b[0;34m\u001b[0m\u001b[0m\n",
            "\u001b[0;32m/usr/local/lib/python3.7/dist-packages/tensorflow/python/keras/activations.py\u001b[0m in \u001b[0;36mget\u001b[0;34m(identifier)\u001b[0m\n\u001b[1;32m    571\u001b[0m   \u001b[0;32mif\u001b[0m \u001b[0misinstance\u001b[0m\u001b[0;34m(\u001b[0m\u001b[0midentifier\u001b[0m\u001b[0;34m,\u001b[0m \u001b[0msix\u001b[0m\u001b[0;34m.\u001b[0m\u001b[0mstring_types\u001b[0m\u001b[0;34m)\u001b[0m\u001b[0;34m:\u001b[0m\u001b[0;34m\u001b[0m\u001b[0;34m\u001b[0m\u001b[0m\n\u001b[1;32m    572\u001b[0m     \u001b[0midentifier\u001b[0m \u001b[0;34m=\u001b[0m \u001b[0mstr\u001b[0m\u001b[0;34m(\u001b[0m\u001b[0midentifier\u001b[0m\u001b[0;34m)\u001b[0m\u001b[0;34m\u001b[0m\u001b[0;34m\u001b[0m\u001b[0m\n\u001b[0;32m--> 573\u001b[0;31m     \u001b[0;32mreturn\u001b[0m \u001b[0mdeserialize\u001b[0m\u001b[0;34m(\u001b[0m\u001b[0midentifier\u001b[0m\u001b[0;34m)\u001b[0m\u001b[0;34m\u001b[0m\u001b[0;34m\u001b[0m\u001b[0m\n\u001b[0m\u001b[1;32m    574\u001b[0m   \u001b[0;32melif\u001b[0m \u001b[0misinstance\u001b[0m\u001b[0;34m(\u001b[0m\u001b[0midentifier\u001b[0m\u001b[0;34m,\u001b[0m \u001b[0mdict\u001b[0m\u001b[0;34m)\u001b[0m\u001b[0;34m:\u001b[0m\u001b[0;34m\u001b[0m\u001b[0;34m\u001b[0m\u001b[0m\n\u001b[1;32m    575\u001b[0m     \u001b[0;32mreturn\u001b[0m \u001b[0mdeserialize\u001b[0m\u001b[0;34m(\u001b[0m\u001b[0midentifier\u001b[0m\u001b[0;34m)\u001b[0m\u001b[0;34m\u001b[0m\u001b[0;34m\u001b[0m\u001b[0m\n",
            "\u001b[0;32m/usr/local/lib/python3.7/dist-packages/tensorflow/python/util/dispatch.py\u001b[0m in \u001b[0;36mwrapper\u001b[0;34m(*args, **kwargs)\u001b[0m\n\u001b[1;32m    199\u001b[0m     \u001b[0;34m\"\"\"Call target, and fall back on dispatchers if there is a TypeError.\"\"\"\u001b[0m\u001b[0;34m\u001b[0m\u001b[0;34m\u001b[0m\u001b[0m\n\u001b[1;32m    200\u001b[0m     \u001b[0;32mtry\u001b[0m\u001b[0;34m:\u001b[0m\u001b[0;34m\u001b[0m\u001b[0;34m\u001b[0m\u001b[0m\n\u001b[0;32m--> 201\u001b[0;31m       \u001b[0;32mreturn\u001b[0m \u001b[0mtarget\u001b[0m\u001b[0;34m(\u001b[0m\u001b[0;34m*\u001b[0m\u001b[0margs\u001b[0m\u001b[0;34m,\u001b[0m \u001b[0;34m**\u001b[0m\u001b[0mkwargs\u001b[0m\u001b[0;34m)\u001b[0m\u001b[0;34m\u001b[0m\u001b[0;34m\u001b[0m\u001b[0m\n\u001b[0m\u001b[1;32m    202\u001b[0m     \u001b[0;32mexcept\u001b[0m \u001b[0;34m(\u001b[0m\u001b[0mTypeError\u001b[0m\u001b[0;34m,\u001b[0m \u001b[0mValueError\u001b[0m\u001b[0;34m)\u001b[0m\u001b[0;34m:\u001b[0m\u001b[0;34m\u001b[0m\u001b[0;34m\u001b[0m\u001b[0m\n\u001b[1;32m    203\u001b[0m       \u001b[0;31m# Note: convert_to_eager_tensor currently raises a ValueError, not a\u001b[0m\u001b[0;34m\u001b[0m\u001b[0;34m\u001b[0m\u001b[0;34m\u001b[0m\u001b[0m\n",
            "\u001b[0;32m/usr/local/lib/python3.7/dist-packages/tensorflow/python/keras/activations.py\u001b[0m in \u001b[0;36mdeserialize\u001b[0;34m(name, custom_objects)\u001b[0m\n\u001b[1;32m    534\u001b[0m       \u001b[0mmodule_objects\u001b[0m\u001b[0;34m=\u001b[0m\u001b[0mglobals\u001b[0m\u001b[0;34m(\u001b[0m\u001b[0;34m)\u001b[0m\u001b[0;34m,\u001b[0m\u001b[0;34m\u001b[0m\u001b[0;34m\u001b[0m\u001b[0m\n\u001b[1;32m    535\u001b[0m       \u001b[0mcustom_objects\u001b[0m\u001b[0;34m=\u001b[0m\u001b[0mcustom_objects\u001b[0m\u001b[0;34m,\u001b[0m\u001b[0;34m\u001b[0m\u001b[0;34m\u001b[0m\u001b[0m\n\u001b[0;32m--> 536\u001b[0;31m       printable_module_name='activation function')\n\u001b[0m\u001b[1;32m    537\u001b[0m \u001b[0;34m\u001b[0m\u001b[0m\n\u001b[1;32m    538\u001b[0m \u001b[0;34m\u001b[0m\u001b[0m\n",
            "\u001b[0;32m/usr/local/lib/python3.7/dist-packages/tensorflow/python/keras/utils/generic_utils.py\u001b[0m in \u001b[0;36mdeserialize_keras_object\u001b[0;34m(identifier, module_objects, custom_objects, printable_module_name)\u001b[0m\n\u001b[1;32m    376\u001b[0m       \u001b[0;32mif\u001b[0m \u001b[0mobj\u001b[0m \u001b[0;32mis\u001b[0m \u001b[0;32mNone\u001b[0m\u001b[0;34m:\u001b[0m\u001b[0;34m\u001b[0m\u001b[0;34m\u001b[0m\u001b[0m\n\u001b[1;32m    377\u001b[0m         raise ValueError(\n\u001b[0;32m--> 378\u001b[0;31m             'Unknown ' + printable_module_name + ': ' + object_name)\n\u001b[0m\u001b[1;32m    379\u001b[0m     \u001b[0;31m# Classes passed by name are instantiated with no args, functions are\u001b[0m\u001b[0;34m\u001b[0m\u001b[0;34m\u001b[0m\u001b[0;34m\u001b[0m\u001b[0m\n\u001b[1;32m    380\u001b[0m     \u001b[0;31m# returned as-is.\u001b[0m\u001b[0;34m\u001b[0m\u001b[0;34m\u001b[0m\u001b[0;34m\u001b[0m\u001b[0m\n",
            "\u001b[0;31mValueError\u001b[0m: Unknown activation function: leakyrelu"
          ]
        }
      ]
    }
  ]
}