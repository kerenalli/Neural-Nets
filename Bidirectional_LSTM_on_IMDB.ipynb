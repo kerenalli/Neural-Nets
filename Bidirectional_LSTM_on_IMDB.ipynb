{
  "nbformat": 4,
  "nbformat_minor": 0,
  "metadata": {
    "colab": {
      "name": "Bidirectional_LSTM_on_IMDB.ipynb",
      "provenance": [],
      "authorship_tag": "ABX9TyM/QepMuXp/YC6+15+//1Xf",
      "include_colab_link": true
    },
    "kernelspec": {
      "name": "python3",
      "display_name": "Python 3"
    }
  },
  "cells": [
    {
      "cell_type": "markdown",
      "metadata": {
        "id": "view-in-github",
        "colab_type": "text"
      },
      "source": [
        "<a href=\"https://colab.research.google.com/github/kerenalli/Neural-Nets/blob/main/Bidirectional_LSTM_on_IMDB.ipynb\" target=\"_parent\"><img src=\"https://colab.research.google.com/assets/colab-badge.svg\" alt=\"Open In Colab\"/></a>"
      ]
    },
    {
      "cell_type": "markdown",
      "metadata": {
        "id": "gcaNPuKC5koC"
      },
      "source": [
        "# **Bidirectional LSTM on IMDB**"
      ]
    },
    {
      "cell_type": "code",
      "metadata": {
        "id": "8gvUatts5kJp"
      },
      "source": [
        "import numpy as np\r\n",
        "from tensorflow import keras\r\n",
        "from tensorflow.keras import layers\r\n",
        "\r\n",
        "max_features = 20000  # Only consider the top 20k words\r\n",
        "maxlen = 200  # Only consider the first 200 words of each movie review"
      ],
      "execution_count": 2,
      "outputs": []
    },
    {
      "cell_type": "markdown",
      "metadata": {
        "id": "u5IzNAA-5soS"
      },
      "source": [
        "## **Build the model**"
      ]
    },
    {
      "cell_type": "code",
      "metadata": {
        "colab": {
          "base_uri": "https://localhost:8080/"
        },
        "id": "G7ff2Hvl5vNi",
        "outputId": "380af983-f3bb-4439-de1f-092416b9ab96"
      },
      "source": [
        "# Input for variable-length sequences of integers\r\n",
        "inputs = keras.Input(shape=(None,), dtype=\"int32\")\r\n",
        "# Embed each integer in a 128-dimensional vector\r\n",
        "x = layers.Embedding(max_features, 128)(inputs)\r\n",
        "# Add 2 bidirectional LSTMs\r\n",
        "x = layers.Bidirectional(layers.LSTM(64, return_sequences=True))(x)\r\n",
        "x = layers.Bidirectional(layers.LSTM(64))(x)\r\n",
        "# Add a classifier\r\n",
        "outputs = layers.Dense(1, activation=\"sigmoid\")(x)\r\n",
        "model = keras.Model(inputs, outputs)\r\n",
        "model.summary()"
      ],
      "execution_count": 3,
      "outputs": [
        {
          "output_type": "stream",
          "text": [
            "Model: \"model\"\n",
            "_________________________________________________________________\n",
            "Layer (type)                 Output Shape              Param #   \n",
            "=================================================================\n",
            "input_1 (InputLayer)         [(None, None)]            0         \n",
            "_________________________________________________________________\n",
            "embedding (Embedding)        (None, None, 128)         2560000   \n",
            "_________________________________________________________________\n",
            "bidirectional (Bidirectional (None, None, 128)         98816     \n",
            "_________________________________________________________________\n",
            "bidirectional_1 (Bidirection (None, 128)               98816     \n",
            "_________________________________________________________________\n",
            "dense (Dense)                (None, 1)                 129       \n",
            "=================================================================\n",
            "Total params: 2,757,761\n",
            "Trainable params: 2,757,761\n",
            "Non-trainable params: 0\n",
            "_________________________________________________________________\n"
          ],
          "name": "stdout"
        }
      ]
    },
    {
      "cell_type": "markdown",
      "metadata": {
        "id": "2ntkokbr6AAp"
      },
      "source": [
        "# **Load the IMDB movie review sentiment **"
      ]
    },
    {
      "cell_type": "code",
      "metadata": {
        "colab": {
          "base_uri": "https://localhost:8080/"
        },
        "id": "SPskzwwx5-PJ",
        "outputId": "d78820e6-8a6f-4601-ea2c-86e866912e8c"
      },
      "source": [
        "(x_train, y_train), (x_val, y_val) = keras.datasets.imdb.load_data(\r\n",
        "    num_words=max_features\r\n",
        ")\r\n",
        "print(len(x_train), \"Training sequences\")\r\n",
        "print(len(x_val), \"Validation sequences\")\r\n",
        "x_train = keras.preprocessing.sequence.pad_sequences(x_train, maxlen=maxlen)\r\n",
        "x_val = keras.preprocessing.sequence.pad_sequences(x_val, maxlen=maxlen)"
      ],
      "execution_count": 4,
      "outputs": [
        {
          "output_type": "stream",
          "text": [
            "Downloading data from https://storage.googleapis.com/tensorflow/tf-keras-datasets/imdb.npz\n",
            "17465344/17464789 [==============================] - 0s 0us/step\n"
          ],
          "name": "stdout"
        },
        {
          "output_type": "stream",
          "text": [
            "<string>:6: VisibleDeprecationWarning: Creating an ndarray from ragged nested sequences (which is a list-or-tuple of lists-or-tuples-or ndarrays with different lengths or shapes) is deprecated. If you meant to do this, you must specify 'dtype=object' when creating the ndarray\n",
            "/usr/local/lib/python3.7/dist-packages/tensorflow/python/keras/datasets/imdb.py:159: VisibleDeprecationWarning: Creating an ndarray from ragged nested sequences (which is a list-or-tuple of lists-or-tuples-or ndarrays with different lengths or shapes) is deprecated. If you meant to do this, you must specify 'dtype=object' when creating the ndarray\n",
            "  x_train, y_train = np.array(xs[:idx]), np.array(labels[:idx])\n",
            "/usr/local/lib/python3.7/dist-packages/tensorflow/python/keras/datasets/imdb.py:160: VisibleDeprecationWarning: Creating an ndarray from ragged nested sequences (which is a list-or-tuple of lists-or-tuples-or ndarrays with different lengths or shapes) is deprecated. If you meant to do this, you must specify 'dtype=object' when creating the ndarray\n",
            "  x_test, y_test = np.array(xs[idx:]), np.array(labels[idx:])\n"
          ],
          "name": "stderr"
        },
        {
          "output_type": "stream",
          "text": [
            "25000 Training sequences\n",
            "25000 Validation sequences\n"
          ],
          "name": "stdout"
        }
      ]
    },
    {
      "cell_type": "markdown",
      "metadata": {
        "id": "cw30XZJJ6YGJ"
      },
      "source": [
        "Train and evaluate the model"
      ]
    },
    {
      "cell_type": "code",
      "metadata": {
        "colab": {
          "base_uri": "https://localhost:8080/"
        },
        "id": "lQwbvFgh6Y_5",
        "outputId": "731b4076-d834-4b17-9cd6-e7272e9fe594"
      },
      "source": [
        "model.compile(\"adam\", \"binary_crossentropy\", metrics=[\"accuracy\"])\r\n",
        "model.fit(x_train, y_train, batch_size=32, epochs=5, validation_data=(x_val, y_val))"
      ],
      "execution_count": 6,
      "outputs": [
        {
          "output_type": "stream",
          "text": [
            "Epoch 1/5\n",
            "782/782 [==============================] - 455s 575ms/step - loss: 0.2410 - accuracy: 0.9093 - val_loss: 0.4372 - val_accuracy: 0.8550\n",
            "Epoch 2/5\n",
            "782/782 [==============================] - 451s 577ms/step - loss: 0.1853 - accuracy: 0.9335 - val_loss: 0.3308 - val_accuracy: 0.8594\n",
            "Epoch 3/5\n",
            "782/782 [==============================] - 452s 578ms/step - loss: 0.1299 - accuracy: 0.9558 - val_loss: 0.3741 - val_accuracy: 0.8538\n",
            "Epoch 4/5\n",
            "782/782 [==============================] - 456s 583ms/step - loss: 0.0976 - accuracy: 0.9678 - val_loss: 0.4364 - val_accuracy: 0.8675\n",
            "Epoch 5/5\n",
            "782/782 [==============================] - 450s 576ms/step - loss: 0.0630 - accuracy: 0.9810 - val_loss: 0.4626 - val_accuracy: 0.8554\n"
          ],
          "name": "stdout"
        },
        {
          "output_type": "execute_result",
          "data": {
            "text/plain": [
              "<tensorflow.python.keras.callbacks.History at 0x7eff9c0999d0>"
            ]
          },
          "metadata": {
            "tags": []
          },
          "execution_count": 6
        }
      ]
    }
  ]
}